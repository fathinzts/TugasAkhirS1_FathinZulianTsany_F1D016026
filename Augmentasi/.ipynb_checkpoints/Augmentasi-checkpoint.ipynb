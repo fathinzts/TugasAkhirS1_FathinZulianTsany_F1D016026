{
 "cells": [
  {
   "cell_type": "code",
   "execution_count": 2,
   "id": "humanitarian-jungle",
   "metadata": {},
   "outputs": [],
   "source": [
    "from torchvision import transforms\n",
    "from PIL import Image\n",
    "import os"
   ]
  },
  {
   "cell_type": "code",
   "execution_count": 7,
   "id": "random-hypothetical",
   "metadata": {},
   "outputs": [],
   "source": [
    "for filename in os.listdir('input'):\n",
    "    filename_path = os.path.join('input', filename)\n",
    "    img = Image.open(filename_path)\n",
    "    \n",
    "    img = transforms.functional.vflip(img)\n",
    "    rhflip = transforms.RandomHorizontalFlip()\n",
    "\n",
    "    newimg = rhflip(img)\n",
    "    newimg_path = os.path.join('Hasil', 'augmnetasi_' + filename)\n",
    "    newimg.save(newimg_path)"
   ]
  },
  {
   "cell_type": "code",
   "execution_count": null,
   "id": "precise-berry",
   "metadata": {},
   "outputs": [],
   "source": []
  }
 ],
 "metadata": {
  "kernelspec": {
   "display_name": "Python 3",
   "language": "python",
   "name": "python3"
  },
  "language_info": {
   "codemirror_mode": {
    "name": "ipython",
    "version": 3
   },
   "file_extension": ".py",
   "mimetype": "text/x-python",
   "name": "python",
   "nbconvert_exporter": "python",
   "pygments_lexer": "ipython3",
   "version": "3.9.1"
  }
 },
 "nbformat": 4,
 "nbformat_minor": 5
}
